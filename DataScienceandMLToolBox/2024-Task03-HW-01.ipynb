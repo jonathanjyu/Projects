{
 "cells": [
  {
   "cell_type": "markdown",
   "id": "a4dfe094",
   "metadata": {},
   "source": [
    "# Task #03 作業 01【實作題】靜態網頁爬蟲實作\n",
    "#練習：台灣銀行牌告利率提供了每日的外幣匯率價格，包含美金、港幣、英鎊等；請試著撰寫爬蟲程式將台灣銀行牌告利率的資訊抓下來，並且整理成 Pandas 中的 DataFrame 格式。\n",
    "\n",
    "❏ Sample Input：https://rate.bot.com.tw/xrt?Lang=zh-TW（資料來源：台灣銀行牌告利率 ）\n",
    "\n",
    "❏ Sample Output：將外幣對台幣匯率整理成 DataFrame\n",
    "\n",
    "❏ Sample Code：\n",
    "\n",
    "url = 'https://rate.bot.com.tw/xrt?Lang=zh-TW'\n",
    "\n",
    "'''\n",
    "Your Code\n",
    "'''"
   ]
  },
  {
   "cell_type": "code",
   "execution_count": 1,
   "id": "66f9825a",
   "metadata": {},
   "outputs": [
    {
     "name": "stdout",
     "output_type": "stream",
     "text": [
      "            幣別 現金匯率本行買入 現金匯率本行賣出 即期匯率本行買入 即期匯率本行賣出\n",
      "0     美金 (USD)    32.04    32.71   32.365   32.515\n",
      "1     港幣 (HKD)    3.994    4.198    4.115    4.185\n",
      "2     英鎊 (GBP)    40.09    42.21   40.985   41.615\n",
      "3     澳幣 (AUD)    21.13    21.91   21.345    21.69\n",
      "4   加拿大幣 (CAD)     23.2    24.11    23.53    23.86\n",
      "5   新加坡幣 (SGD)    23.44    24.35    23.91    24.13\n",
      "6   瑞士法郎 (CHF)    35.01    36.21    35.62    36.01\n",
      "7     日圓 (JPY)   0.1978   0.2106   0.2046   0.2096\n",
      "8    南非幣 (ZAR)        -        -    1.699    1.789\n",
      "9    瑞典幣 (SEK)     2.67     3.19        3     3.12\n",
      "10    紐元 (NZD)    19.37    20.22     19.7       20\n",
      "11    泰幣 (THB)   0.7564   0.9464   0.8658   0.9118\n",
      "12  菲國比索 (PHP)   0.4879   0.6199        -        -\n",
      "13   印尼幣 (IDR)  0.00158  0.00228        -        -\n",
      "14    歐元 (EUR)    34.31    35.65   34.825   35.425\n",
      "15    韓元 (KRW)  0.02186  0.02576        -        -\n",
      "16   越南盾 (VND)  0.00103  0.00144        -        -\n",
      "17   馬來幣 (MYR)    5.856    7.376        -        -\n",
      "18   人民幣 (CNY)    4.377    4.539    4.444    4.504\n"
     ]
    }
   ],
   "source": [
    "import pandas as pd\n",
    "\n",
    "# read html\n",
    "df = pd.read_html('https://rate.bot.com.tw/xrt?Lang=zh-TW')\n",
    "\n",
    "# extract data\n",
    "df = df[0].iloc[:,0:5]\n",
    "\n",
    "# rename column name\n",
    "df.columns=['幣別','現金匯率本行買入','現金匯率本行賣出','即期匯率本行買入','即期匯率本行賣出']\n",
    "\n",
    "# split '幣別' column\n",
    "for i in range(len(df['幣別'])):\n",
    "    df['幣別'][i] = df['幣別'].str.split('  ')[i][0]\n",
    "\n",
    "print(df)"
   ]
  },
  {
   "cell_type": "code",
   "execution_count": null,
   "id": "69338951",
   "metadata": {},
   "outputs": [],
   "source": []
  }
 ],
 "metadata": {
  "kernelspec": {
   "display_name": "Python 3 (ipykernel)",
   "language": "python",
   "name": "python3"
  },
  "language_info": {
   "codemirror_mode": {
    "name": "ipython",
    "version": 3
   },
   "file_extension": ".py",
   "mimetype": "text/x-python",
   "name": "python",
   "nbconvert_exporter": "python",
   "pygments_lexer": "ipython3",
   "version": "3.9.16"
  }
 },
 "nbformat": 4,
 "nbformat_minor": 5
}
