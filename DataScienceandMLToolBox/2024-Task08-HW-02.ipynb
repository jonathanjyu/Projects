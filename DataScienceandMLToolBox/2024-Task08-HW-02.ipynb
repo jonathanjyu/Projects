{
 "cells": [
  {
   "cell_type": "markdown",
   "id": "d1a00765",
   "metadata": {},
   "source": [
    "# Task #08 作業 02【實作題】機器學習 - 分類與迴歸\n",
    "請根據給定的資料集，分成前 7 筆的訓練資料與後 3 筆的測試資料完成以下兩個分析：\n",
    "\n",
    "利用 Country, Age, Salary 對 Purchased 進行分類學習，印出後三筆資料的 Purchased 為何\n",
    "利用 Country, Age, Purchased 對 Salary 進行迴歸學習，印出後三筆資料的 Salary 為何\n",
    "❏ Sample Code:\n",
    "\n",
    "import pandas as pd\n",
    "import statsmodels.api as sm\n",
    "\n",
    "source = 'https://raw.githubusercontent.com/MachineLearningLiuMing/scikit-learn-primer-guide/master/Data.csv'\n",
    "\n",
    "'''\n",
    "Your Code\n",
    "'''\n"
   ]
  },
  {
   "cell_type": "code",
   "execution_count": 1,
   "id": "d0319c2c",
   "metadata": {},
   "outputs": [],
   "source": [
    "import pandas as pd\n",
    "import statsmodels.api as sm\n",
    "\n",
    "from sklearn.preprocessing import StandardScaler\n",
    "\n",
    "source = 'https://raw.githubusercontent.com/MachineLearningLiuMing/scikit-learn-primer-guide/master/Data.csv'"
   ]
  },
  {
   "cell_type": "code",
   "execution_count": 2,
   "id": "b61fcaa9",
   "metadata": {},
   "outputs": [
    {
     "data": {
      "text/html": [
       "<div>\n",
       "<style scoped>\n",
       "    .dataframe tbody tr th:only-of-type {\n",
       "        vertical-align: middle;\n",
       "    }\n",
       "\n",
       "    .dataframe tbody tr th {\n",
       "        vertical-align: top;\n",
       "    }\n",
       "\n",
       "    .dataframe thead th {\n",
       "        text-align: right;\n",
       "    }\n",
       "</style>\n",
       "<table border=\"1\" class=\"dataframe\">\n",
       "  <thead>\n",
       "    <tr style=\"text-align: right;\">\n",
       "      <th></th>\n",
       "      <th>Country</th>\n",
       "      <th>Age</th>\n",
       "      <th>Salary</th>\n",
       "      <th>Purchased</th>\n",
       "    </tr>\n",
       "  </thead>\n",
       "  <tbody>\n",
       "    <tr>\n",
       "      <th>0</th>\n",
       "      <td>France</td>\n",
       "      <td>44.0</td>\n",
       "      <td>72000.0</td>\n",
       "      <td>No</td>\n",
       "    </tr>\n",
       "    <tr>\n",
       "      <th>1</th>\n",
       "      <td>Spain</td>\n",
       "      <td>27.0</td>\n",
       "      <td>48000.0</td>\n",
       "      <td>Yes</td>\n",
       "    </tr>\n",
       "    <tr>\n",
       "      <th>2</th>\n",
       "      <td>Germany</td>\n",
       "      <td>30.0</td>\n",
       "      <td>54000.0</td>\n",
       "      <td>No</td>\n",
       "    </tr>\n",
       "    <tr>\n",
       "      <th>3</th>\n",
       "      <td>Spain</td>\n",
       "      <td>38.0</td>\n",
       "      <td>61000.0</td>\n",
       "      <td>No</td>\n",
       "    </tr>\n",
       "    <tr>\n",
       "      <th>4</th>\n",
       "      <td>Germany</td>\n",
       "      <td>40.0</td>\n",
       "      <td>NaN</td>\n",
       "      <td>Yes</td>\n",
       "    </tr>\n",
       "    <tr>\n",
       "      <th>5</th>\n",
       "      <td>France</td>\n",
       "      <td>35.0</td>\n",
       "      <td>58000.0</td>\n",
       "      <td>Yes</td>\n",
       "    </tr>\n",
       "    <tr>\n",
       "      <th>6</th>\n",
       "      <td>Spain</td>\n",
       "      <td>NaN</td>\n",
       "      <td>52000.0</td>\n",
       "      <td>No</td>\n",
       "    </tr>\n",
       "    <tr>\n",
       "      <th>7</th>\n",
       "      <td>France</td>\n",
       "      <td>48.0</td>\n",
       "      <td>79000.0</td>\n",
       "      <td>Yes</td>\n",
       "    </tr>\n",
       "    <tr>\n",
       "      <th>8</th>\n",
       "      <td>Germany</td>\n",
       "      <td>50.0</td>\n",
       "      <td>83000.0</td>\n",
       "      <td>No</td>\n",
       "    </tr>\n",
       "    <tr>\n",
       "      <th>9</th>\n",
       "      <td>France</td>\n",
       "      <td>37.0</td>\n",
       "      <td>67000.0</td>\n",
       "      <td>Yes</td>\n",
       "    </tr>\n",
       "  </tbody>\n",
       "</table>\n",
       "</div>"
      ],
      "text/plain": [
       "   Country   Age   Salary Purchased\n",
       "0   France  44.0  72000.0        No\n",
       "1    Spain  27.0  48000.0       Yes\n",
       "2  Germany  30.0  54000.0        No\n",
       "3    Spain  38.0  61000.0        No\n",
       "4  Germany  40.0      NaN       Yes\n",
       "5   France  35.0  58000.0       Yes\n",
       "6    Spain   NaN  52000.0        No\n",
       "7   France  48.0  79000.0       Yes\n",
       "8  Germany  50.0  83000.0        No\n",
       "9   France  37.0  67000.0       Yes"
      ]
     },
     "execution_count": 2,
     "metadata": {},
     "output_type": "execute_result"
    }
   ],
   "source": [
    "data = pd.read_csv(source)\n",
    "data"
   ]
  },
  {
   "cell_type": "code",
   "execution_count": 3,
   "id": "26410f82",
   "metadata": {},
   "outputs": [
    {
     "data": {
      "text/plain": [
       "Country      0\n",
       "Age          1\n",
       "Salary       1\n",
       "Purchased    0\n",
       "dtype: int64"
      ]
     },
     "execution_count": 3,
     "metadata": {},
     "output_type": "execute_result"
    }
   ],
   "source": [
    "# data cleaning\n",
    "data.isnull().sum()"
   ]
  },
  {
   "cell_type": "code",
   "execution_count": 4,
   "id": "ef72795c",
   "metadata": {},
   "outputs": [],
   "source": [
    "data[\"Age\"] = data[\"Age\"].fillna(data[\"Age\"].mean())\n",
    "data[\"Salary\"] = data[\"Salary\"].fillna(data[\"Salary\"].mean())"
   ]
  },
  {
   "cell_type": "code",
   "execution_count": 5,
   "id": "b502b44c",
   "metadata": {
    "scrolled": true
   },
   "outputs": [
    {
     "data": {
      "text/html": [
       "<div>\n",
       "<style scoped>\n",
       "    .dataframe tbody tr th:only-of-type {\n",
       "        vertical-align: middle;\n",
       "    }\n",
       "\n",
       "    .dataframe tbody tr th {\n",
       "        vertical-align: top;\n",
       "    }\n",
       "\n",
       "    .dataframe thead th {\n",
       "        text-align: right;\n",
       "    }\n",
       "</style>\n",
       "<table border=\"1\" class=\"dataframe\">\n",
       "  <thead>\n",
       "    <tr style=\"text-align: right;\">\n",
       "      <th></th>\n",
       "      <th>Country</th>\n",
       "      <th>Age</th>\n",
       "      <th>Salary</th>\n",
       "      <th>Purchased</th>\n",
       "    </tr>\n",
       "  </thead>\n",
       "  <tbody>\n",
       "    <tr>\n",
       "      <th>0</th>\n",
       "      <td>France</td>\n",
       "      <td>44.000000</td>\n",
       "      <td>72000.000000</td>\n",
       "      <td>No</td>\n",
       "    </tr>\n",
       "    <tr>\n",
       "      <th>1</th>\n",
       "      <td>Spain</td>\n",
       "      <td>27.000000</td>\n",
       "      <td>48000.000000</td>\n",
       "      <td>Yes</td>\n",
       "    </tr>\n",
       "    <tr>\n",
       "      <th>2</th>\n",
       "      <td>Germany</td>\n",
       "      <td>30.000000</td>\n",
       "      <td>54000.000000</td>\n",
       "      <td>No</td>\n",
       "    </tr>\n",
       "    <tr>\n",
       "      <th>3</th>\n",
       "      <td>Spain</td>\n",
       "      <td>38.000000</td>\n",
       "      <td>61000.000000</td>\n",
       "      <td>No</td>\n",
       "    </tr>\n",
       "    <tr>\n",
       "      <th>4</th>\n",
       "      <td>Germany</td>\n",
       "      <td>40.000000</td>\n",
       "      <td>63777.777778</td>\n",
       "      <td>Yes</td>\n",
       "    </tr>\n",
       "    <tr>\n",
       "      <th>5</th>\n",
       "      <td>France</td>\n",
       "      <td>35.000000</td>\n",
       "      <td>58000.000000</td>\n",
       "      <td>Yes</td>\n",
       "    </tr>\n",
       "    <tr>\n",
       "      <th>6</th>\n",
       "      <td>Spain</td>\n",
       "      <td>38.777778</td>\n",
       "      <td>52000.000000</td>\n",
       "      <td>No</td>\n",
       "    </tr>\n",
       "    <tr>\n",
       "      <th>7</th>\n",
       "      <td>France</td>\n",
       "      <td>48.000000</td>\n",
       "      <td>79000.000000</td>\n",
       "      <td>Yes</td>\n",
       "    </tr>\n",
       "    <tr>\n",
       "      <th>8</th>\n",
       "      <td>Germany</td>\n",
       "      <td>50.000000</td>\n",
       "      <td>83000.000000</td>\n",
       "      <td>No</td>\n",
       "    </tr>\n",
       "    <tr>\n",
       "      <th>9</th>\n",
       "      <td>France</td>\n",
       "      <td>37.000000</td>\n",
       "      <td>67000.000000</td>\n",
       "      <td>Yes</td>\n",
       "    </tr>\n",
       "  </tbody>\n",
       "</table>\n",
       "</div>"
      ],
      "text/plain": [
       "   Country        Age        Salary Purchased\n",
       "0   France  44.000000  72000.000000        No\n",
       "1    Spain  27.000000  48000.000000       Yes\n",
       "2  Germany  30.000000  54000.000000        No\n",
       "3    Spain  38.000000  61000.000000        No\n",
       "4  Germany  40.000000  63777.777778       Yes\n",
       "5   France  35.000000  58000.000000       Yes\n",
       "6    Spain  38.777778  52000.000000        No\n",
       "7   France  48.000000  79000.000000       Yes\n",
       "8  Germany  50.000000  83000.000000        No\n",
       "9   France  37.000000  67000.000000       Yes"
      ]
     },
     "execution_count": 5,
     "metadata": {},
     "output_type": "execute_result"
    }
   ],
   "source": [
    "data"
   ]
  },
  {
   "cell_type": "code",
   "execution_count": 6,
   "id": "12065481",
   "metadata": {},
   "outputs": [
    {
     "data": {
      "text/plain": [
       "Country      0\n",
       "Age          0\n",
       "Salary       0\n",
       "Purchased    0\n",
       "dtype: int64"
      ]
     },
     "execution_count": 6,
     "metadata": {},
     "output_type": "execute_result"
    }
   ],
   "source": [
    "data.isnull().sum()"
   ]
  },
  {
   "cell_type": "code",
   "execution_count": 7,
   "id": "d2bce1c4",
   "metadata": {},
   "outputs": [],
   "source": [
    "# data preprocess"
   ]
  },
  {
   "cell_type": "code",
   "execution_count": 8,
   "id": "040c9827",
   "metadata": {},
   "outputs": [
    {
     "data": {
      "text/plain": [
       "(   Country        Age        Salary\n",
       " 0   France  44.000000  72000.000000\n",
       " 1    Spain  27.000000  48000.000000\n",
       " 2  Germany  30.000000  54000.000000\n",
       " 3    Spain  38.000000  61000.000000\n",
       " 4  Germany  40.000000  63777.777778\n",
       " 5   France  35.000000  58000.000000\n",
       " 6    Spain  38.777778  52000.000000\n",
       " 7   France  48.000000  79000.000000\n",
       " 8  Germany  50.000000  83000.000000\n",
       " 9   France  37.000000  67000.000000,\n",
       " 0     No\n",
       " 1    Yes\n",
       " 2     No\n",
       " 3     No\n",
       " 4    Yes\n",
       " 5    Yes\n",
       " 6     No\n",
       " 7    Yes\n",
       " 8     No\n",
       " 9    Yes\n",
       " Name: Purchased, dtype: object)"
      ]
     },
     "execution_count": 8,
     "metadata": {},
     "output_type": "execute_result"
    }
   ],
   "source": [
    "X = data[[\"Country\",\"Age\",\"Salary\"]]\n",
    "y = data[\"Purchased\"]\n",
    "X,y"
   ]
  },
  {
   "cell_type": "code",
   "execution_count": 9,
   "id": "034e9e18",
   "metadata": {},
   "outputs": [
    {
     "data": {
      "text/html": [
       "<div>\n",
       "<style scoped>\n",
       "    .dataframe tbody tr th:only-of-type {\n",
       "        vertical-align: middle;\n",
       "    }\n",
       "\n",
       "    .dataframe tbody tr th {\n",
       "        vertical-align: top;\n",
       "    }\n",
       "\n",
       "    .dataframe thead th {\n",
       "        text-align: right;\n",
       "    }\n",
       "</style>\n",
       "<table border=\"1\" class=\"dataframe\">\n",
       "  <thead>\n",
       "    <tr style=\"text-align: right;\">\n",
       "      <th></th>\n",
       "      <th>Age</th>\n",
       "      <th>Salary</th>\n",
       "      <th>Country_France</th>\n",
       "      <th>Country_Germany</th>\n",
       "      <th>Country_Spain</th>\n",
       "    </tr>\n",
       "  </thead>\n",
       "  <tbody>\n",
       "    <tr>\n",
       "      <th>0</th>\n",
       "      <td>44.000000</td>\n",
       "      <td>72000.000000</td>\n",
       "      <td>1</td>\n",
       "      <td>0</td>\n",
       "      <td>0</td>\n",
       "    </tr>\n",
       "    <tr>\n",
       "      <th>1</th>\n",
       "      <td>27.000000</td>\n",
       "      <td>48000.000000</td>\n",
       "      <td>0</td>\n",
       "      <td>0</td>\n",
       "      <td>1</td>\n",
       "    </tr>\n",
       "    <tr>\n",
       "      <th>2</th>\n",
       "      <td>30.000000</td>\n",
       "      <td>54000.000000</td>\n",
       "      <td>0</td>\n",
       "      <td>1</td>\n",
       "      <td>0</td>\n",
       "    </tr>\n",
       "    <tr>\n",
       "      <th>3</th>\n",
       "      <td>38.000000</td>\n",
       "      <td>61000.000000</td>\n",
       "      <td>0</td>\n",
       "      <td>0</td>\n",
       "      <td>1</td>\n",
       "    </tr>\n",
       "    <tr>\n",
       "      <th>4</th>\n",
       "      <td>40.000000</td>\n",
       "      <td>63777.777778</td>\n",
       "      <td>0</td>\n",
       "      <td>1</td>\n",
       "      <td>0</td>\n",
       "    </tr>\n",
       "    <tr>\n",
       "      <th>5</th>\n",
       "      <td>35.000000</td>\n",
       "      <td>58000.000000</td>\n",
       "      <td>1</td>\n",
       "      <td>0</td>\n",
       "      <td>0</td>\n",
       "    </tr>\n",
       "    <tr>\n",
       "      <th>6</th>\n",
       "      <td>38.777778</td>\n",
       "      <td>52000.000000</td>\n",
       "      <td>0</td>\n",
       "      <td>0</td>\n",
       "      <td>1</td>\n",
       "    </tr>\n",
       "    <tr>\n",
       "      <th>7</th>\n",
       "      <td>48.000000</td>\n",
       "      <td>79000.000000</td>\n",
       "      <td>1</td>\n",
       "      <td>0</td>\n",
       "      <td>0</td>\n",
       "    </tr>\n",
       "    <tr>\n",
       "      <th>8</th>\n",
       "      <td>50.000000</td>\n",
       "      <td>83000.000000</td>\n",
       "      <td>0</td>\n",
       "      <td>1</td>\n",
       "      <td>0</td>\n",
       "    </tr>\n",
       "    <tr>\n",
       "      <th>9</th>\n",
       "      <td>37.000000</td>\n",
       "      <td>67000.000000</td>\n",
       "      <td>1</td>\n",
       "      <td>0</td>\n",
       "      <td>0</td>\n",
       "    </tr>\n",
       "  </tbody>\n",
       "</table>\n",
       "</div>"
      ],
      "text/plain": [
       "         Age        Salary  Country_France  Country_Germany  Country_Spain\n",
       "0  44.000000  72000.000000               1                0              0\n",
       "1  27.000000  48000.000000               0                0              1\n",
       "2  30.000000  54000.000000               0                1              0\n",
       "3  38.000000  61000.000000               0                0              1\n",
       "4  40.000000  63777.777778               0                1              0\n",
       "5  35.000000  58000.000000               1                0              0\n",
       "6  38.777778  52000.000000               0                0              1\n",
       "7  48.000000  79000.000000               1                0              0\n",
       "8  50.000000  83000.000000               0                1              0\n",
       "9  37.000000  67000.000000               1                0              0"
      ]
     },
     "execution_count": 9,
     "metadata": {},
     "output_type": "execute_result"
    }
   ],
   "source": [
    "X = pd.get_dummies(X)\n",
    "X"
   ]
  },
  {
   "cell_type": "code",
   "execution_count": 10,
   "id": "8644717a",
   "metadata": {},
   "outputs": [
    {
     "name": "stdout",
     "output_type": "stream",
     "text": [
      "38.77777777777778 7.253777219533095\n",
      "        Age        Salary  Country_France  Country_Germany  Country_Spain\n",
      "0  0.719931  72000.000000               1                0              0\n",
      "1 -1.623675  48000.000000               0                0              1\n",
      "2 -1.210098  54000.000000               0                1              0\n",
      "3 -0.107224  61000.000000               0                0              1\n",
      "4  0.168495  63777.777778               0                1              0\n",
      "5 -0.520801  58000.000000               1                0              0\n",
      "6  0.000000  52000.000000               0                0              1\n",
      "7  1.271368  79000.000000               1                0              0\n",
      "8  1.547087  83000.000000               0                1              0\n",
      "9 -0.245083  67000.000000               1                0              0\n"
     ]
    }
   ],
   "source": [
    "print(X.Age.mean(),X.Age.std())\n",
    "X.Age = (X.Age-X.Age.mean())/X.Age.std()\n",
    "print(X)"
   ]
  },
  {
   "cell_type": "code",
   "execution_count": 11,
   "id": "579b4432",
   "metadata": {},
   "outputs": [
    {
     "name": "stdout",
     "output_type": "stream",
     "text": [
      "63777.777777777774 11564.099405562389\n",
      "        Age        Salary  Country_France  Country_Germany  Country_Spain\n",
      "0  0.719931  7.110128e-01               1                0              0\n",
      "1 -1.623675 -1.364376e+00               0                0              1\n",
      "2 -1.210098 -8.455287e-01               0                1              0\n",
      "3 -0.107224 -2.402070e-01               0                0              1\n",
      "4  0.168495  6.291850e-16               0                1              0\n",
      "5 -0.520801 -4.996306e-01               1                0              0\n",
      "6  0.000000 -1.018478e+00               0                0              1\n",
      "7  1.271368  1.316334e+00               1                0              0\n",
      "8  1.547087  1.662233e+00               0                1              0\n",
      "9 -0.245083  2.786401e-01               1                0              0\n"
     ]
    }
   ],
   "source": [
    "print(X.Salary.mean(),X.Salary.std())\n",
    "X.Salary = (X.Salary-X.Salary.mean())/X.Salary.std()\n",
    "print(X)"
   ]
  },
  {
   "cell_type": "code",
   "execution_count": 12,
   "id": "6ecc04de",
   "metadata": {},
   "outputs": [
    {
     "data": {
      "text/plain": [
       "array([0, 1, 0, 0, 1, 1, 0, 1, 0, 1])"
      ]
     },
     "execution_count": 12,
     "metadata": {},
     "output_type": "execute_result"
    }
   ],
   "source": [
    "from sklearn.preprocessing import LabelEncoder\n",
    "labelencoder = LabelEncoder()\n",
    "y = labelencoder.fit_transform(y)\n",
    "y"
   ]
  },
  {
   "cell_type": "code",
   "execution_count": 13,
   "id": "7822d50e",
   "metadata": {},
   "outputs": [],
   "source": [
    "#y = pd.get_dummies(y)\n",
    "#y"
   ]
  },
  {
   "cell_type": "code",
   "execution_count": 14,
   "id": "595f8d68",
   "metadata": {},
   "outputs": [],
   "source": [
    "# train test split data\n",
    "from sklearn.model_selection import train_test_split"
   ]
  },
  {
   "cell_type": "code",
   "execution_count": 15,
   "id": "3a270ef8",
   "metadata": {},
   "outputs": [
    {
     "data": {
      "text/plain": [
       "((7, 5), (7,), (3, 5), (3,))"
      ]
     },
     "execution_count": 15,
     "metadata": {},
     "output_type": "execute_result"
    }
   ],
   "source": [
    "# 切分訓練集和測試集\n",
    "#X_train, X_test, y_train, y_test = train_test_split(X, y, test_size=0.3, random_state=42)\n",
    "# 此處因題目規定前7筆作train data,後3筆為test data,因此直接取row\n",
    "X_train = X.iloc[:7]\n",
    "y_train = y[:7]\n",
    "X_test = X.iloc[7:]\n",
    "y_test = y[7:]\n",
    "X_train.shape,y_train.shape,X_test.shape,y_test.shape"
   ]
  },
  {
   "cell_type": "code",
   "execution_count": 16,
   "id": "f8594e6c",
   "metadata": {},
   "outputs": [],
   "source": [
    "# create model\n",
    "from sklearn.tree import DecisionTreeClassifier"
   ]
  },
  {
   "cell_type": "code",
   "execution_count": 17,
   "id": "2e6d4cea",
   "metadata": {},
   "outputs": [],
   "source": [
    "model = DecisionTreeClassifier()\n",
    "model.fit(X_train, y_train)\n",
    "y_pred = model.predict(X_test)"
   ]
  },
  {
   "cell_type": "code",
   "execution_count": 18,
   "id": "bd44d1ab",
   "metadata": {},
   "outputs": [
    {
     "data": {
      "text/plain": [
       "array([0, 0, 1])"
      ]
     },
     "execution_count": 18,
     "metadata": {},
     "output_type": "execute_result"
    }
   ],
   "source": [
    "y_pred"
   ]
  },
  {
   "cell_type": "code",
   "execution_count": 19,
   "id": "60d7e4b3",
   "metadata": {},
   "outputs": [
    {
     "data": {
      "text/plain": [
       "0.6666666666666666"
      ]
     },
     "execution_count": 19,
     "metadata": {},
     "output_type": "execute_result"
    }
   ],
   "source": [
    "# evaluation\n",
    "from sklearn.metrics import accuracy_score\n",
    "accuracy = accuracy_score(y_test, y_pred)\n",
    "accuracy"
   ]
  },
  {
   "cell_type": "code",
   "execution_count": 20,
   "id": "c3882c01",
   "metadata": {},
   "outputs": [
    {
     "data": {
      "text/plain": [
       "array([[1, 0],\n",
       "       [1, 1]], dtype=int64)"
      ]
     },
     "execution_count": 20,
     "metadata": {},
     "output_type": "execute_result"
    }
   ],
   "source": [
    "from sklearn.metrics import confusion_matrix\n",
    "confusion_matrix(y_test, y_pred)"
   ]
  },
  {
   "cell_type": "code",
   "execution_count": 21,
   "id": "96b282a8",
   "metadata": {},
   "outputs": [
    {
     "data": {
      "text/plain": [
       "(array(['No', 'No', 'Yes'], dtype=object),\n",
       " array(['Yes', 'No', 'Yes'], dtype=object))"
      ]
     },
     "execution_count": 21,
     "metadata": {},
     "output_type": "execute_result"
    }
   ],
   "source": [
    "labelencoder.inverse_transform(y_pred),labelencoder.inverse_transform(y_test)"
   ]
  },
  {
   "cell_type": "code",
   "execution_count": null,
   "id": "0abc1847",
   "metadata": {},
   "outputs": [],
   "source": []
  },
  {
   "cell_type": "code",
   "execution_count": null,
   "id": "28b45206",
   "metadata": {},
   "outputs": [],
   "source": []
  },
  {
   "cell_type": "markdown",
   "id": "0aceeb01",
   "metadata": {},
   "source": [
    "## 整理成一block"
   ]
  },
  {
   "cell_type": "code",
   "execution_count": null,
   "id": "0ea580d1",
   "metadata": {},
   "outputs": [],
   "source": [
    "# predict Purchased-classification"
   ]
  },
  {
   "cell_type": "code",
   "execution_count": null,
   "id": "e09f0204",
   "metadata": {},
   "outputs": [],
   "source": [
    "# use standardization"
   ]
  },
  {
   "cell_type": "code",
   "execution_count": 21,
   "id": "dda72168",
   "metadata": {
    "scrolled": true
   },
   "outputs": [
    {
     "name": "stdout",
     "output_type": "stream",
     "text": [
      "\n",
      "before data cleaning:\n",
      " Country      0\n",
      "Age          1\n",
      "Salary       1\n",
      "Purchased    0\n",
      "dtype: int64\n",
      "\n",
      "after data cleaning:\n",
      " Country      0\n",
      "Age          0\n",
      "Salary       0\n",
      "Purchased    0\n",
      "dtype: int64\n",
      "\n",
      "after one hot encoding X:\n",
      "          Age        Salary  Country_France  Country_Germany  Country_Spain\n",
      "0  44.000000  72000.000000               1                0              0\n",
      "1  27.000000  48000.000000               0                0              1\n",
      "2  30.000000  54000.000000               0                1              0\n",
      "3  38.000000  61000.000000               0                0              1\n",
      "4  40.000000  63777.777778               0                1              0\n",
      "5  35.000000  58000.000000               1                0              0\n",
      "6  38.777778  52000.000000               0                0              1\n",
      "7  48.000000  79000.000000               1                0              0\n",
      "8  50.000000  83000.000000               0                1              0\n",
      "9  37.000000  67000.000000               1                0              0\n",
      "\n",
      "X[\"Age\"] after standardization:\n",
      " 0    0.719931\n",
      "1   -1.623675\n",
      "2   -1.210098\n",
      "3   -0.107224\n",
      "4    0.168495\n",
      "5   -0.520801\n",
      "6    0.000000\n",
      "7    1.271368\n",
      "8    1.547087\n",
      "9   -0.245083\n",
      "Name: Age, dtype: float64\n",
      "\n",
      "X[\"Salary\"] after standardization:\n",
      " 0    7.110128e-01\n",
      "1   -1.364376e+00\n",
      "2   -8.455287e-01\n",
      "3   -2.402070e-01\n",
      "4    6.291850e-16\n",
      "5   -4.996306e-01\n",
      "6   -1.018478e+00\n",
      "7    1.316334e+00\n",
      "8    1.662233e+00\n",
      "9    2.786401e-01\n",
      "Name: Salary, dtype: float64\n",
      "\n",
      "after label encoding y: [0 1 0 0 1 1 0 1 0 1]\n",
      "\n",
      "shape after train test split X_train:(7, 5),y_train:(7,),X_test:(3, 5),y_test:(3,))\n",
      "\n",
      "predict result: ['No' 'No' 'Yes']\n",
      "original result: ['Yes' 'No' 'Yes']\n"
     ]
    }
   ],
   "source": [
    "import pandas as pd\n",
    "import statsmodels.api as sm\n",
    "\n",
    "from sklearn.preprocessing import LabelEncoder\n",
    "from sklearn.model_selection import train_test_split\n",
    "from sklearn.tree import DecisionTreeClassifier\n",
    "\n",
    "source = 'https://raw.githubusercontent.com/MachineLearningLiuMing/scikit-learn-primer-guide/master/Data.csv'\n",
    "\n",
    "data = pd.read_csv(source)\n",
    "#data\n",
    "\n",
    "# data cleaning\n",
    "print(\"\\nbefore data cleaning:\\n\",data.isnull().sum())\n",
    "data[\"Age\"] = data[\"Age\"].fillna(data[\"Age\"].mean())\n",
    "data[\"Salary\"] = data[\"Salary\"].fillna(data[\"Salary\"].mean())\n",
    "print(\"\\nafter data cleaning:\\n\",data.isnull().sum())\n",
    "\n",
    "# data preprocess\n",
    "X = data[[\"Country\",\"Age\",\"Salary\"]]\n",
    "y = data[\"Purchased\"]\n",
    "#print(X,y)\n",
    "X = pd.get_dummies(X)\n",
    "print(\"\\nafter one hot encoding X:\\n\",X)\n",
    "\n",
    "# standardization Age and Salary\n",
    "#print(X.Age.mean(),X.Age.std())\n",
    "X.Age = (X.Age-X.Age.mean())/X.Age.std()\n",
    "print(\"\\nX[\\\"Age\\\"] after standardization:\\n\",X.Age)\n",
    "#print(X.Salary.mean(),X.Salary.std())\n",
    "X.Salary = (X.Salary-X.Salary.mean())/X.Salary.std()\n",
    "print(\"\\nX[\\\"Salary\\\"] after standardization:\\n\",X.Salary)\n",
    "\n",
    "# Label encoding y\n",
    "labelencoder = LabelEncoder()\n",
    "y = labelencoder.fit_transform(y)\n",
    "print(\"\\nafter label encoding y:\",y)\n",
    "\n",
    "\n",
    "# train test split data\n",
    "# 切分訓練集和測試集\n",
    "#X_train, X_test, y_train, y_test = train_test_split(X, y, test_size=0.3, random_state=42)\n",
    "# 此處因題目規定前7筆作train data,後3筆為test data,因此直接取row\n",
    "X_train = X.iloc[:7]\n",
    "y_train = y[:7]\n",
    "X_test = X.iloc[7:]\n",
    "y_test = y[7:]\n",
    "print(f\"\\nshape after train test split X_train:{X_train.shape},y_train:{y_train.shape},X_test:{X_test.shape},y_test:{y_test.shape})\")\n",
    "\n",
    "# create model\n",
    "model = DecisionTreeClassifier()\n",
    "model.fit(X_train, y_train)\n",
    "y_pred = model.predict(X_test)\n",
    "y_pred_inverse = labelencoder.inverse_transform(y_pred)\n",
    "print(\"\\npredict result:\",y_pred_inverse)\n",
    "\n",
    "print(\"original result:\",labelencoder.inverse_transform(y_test))"
   ]
  },
  {
   "cell_type": "code",
   "execution_count": null,
   "id": "99b9fecf",
   "metadata": {},
   "outputs": [],
   "source": [
    "# use minmaxscaler"
   ]
  },
  {
   "cell_type": "code",
   "execution_count": 22,
   "id": "e0d283e1",
   "metadata": {
    "scrolled": true
   },
   "outputs": [
    {
     "name": "stdout",
     "output_type": "stream",
     "text": [
      "\n",
      "before data cleaning:\n",
      " Country      0\n",
      "Age          1\n",
      "Salary       1\n",
      "Purchased    0\n",
      "dtype: int64\n",
      "\n",
      "after data cleaning:\n",
      " Country      0\n",
      "Age          0\n",
      "Salary       0\n",
      "Purchased    0\n",
      "dtype: int64\n",
      "\n",
      "after one hot encoding X:\n",
      "          Age        Salary  Country_France  Country_Germany  Country_Spain\n",
      "0  44.000000  72000.000000               1                0              0\n",
      "1  27.000000  48000.000000               0                0              1\n",
      "2  30.000000  54000.000000               0                1              0\n",
      "3  38.000000  61000.000000               0                0              1\n",
      "4  40.000000  63777.777778               0                1              0\n",
      "5  35.000000  58000.000000               1                0              0\n",
      "6  38.777778  52000.000000               0                0              1\n",
      "7  48.000000  79000.000000               1                0              0\n",
      "8  50.000000  83000.000000               0                1              0\n",
      "9  37.000000  67000.000000               1                0              0\n",
      "\n",
      "X[\"Age\"] after MaxMinScaler:\n",
      " 0    0.739130\n",
      "1    0.000000\n",
      "2    0.130435\n",
      "3    0.478261\n",
      "4    0.565217\n",
      "5    0.347826\n",
      "6    0.512077\n",
      "7    0.913043\n",
      "8    1.000000\n",
      "9    0.434783\n",
      "Name: Age, dtype: float64\n",
      "\n",
      "X[\"Salary\"] after MaxMinScaler:\n",
      " 0    0.685714\n",
      "1    0.000000\n",
      "2    0.171429\n",
      "3    0.371429\n",
      "4    0.450794\n",
      "5    0.285714\n",
      "6    0.114286\n",
      "7    0.885714\n",
      "8    1.000000\n",
      "9    0.542857\n",
      "Name: Salary, dtype: float64\n",
      "\n",
      "after label encoding y: [0 1 0 0 1 1 0 1 0 1]\n",
      "\n",
      "shape after train test split X_train:(7, 5),y_train:(7,),X_test:(3, 5),y_test:(3,))\n",
      "\n",
      "predict result: ['No' 'No' 'Yes']\n",
      "original result: ['Yes' 'No' 'Yes']\n"
     ]
    }
   ],
   "source": [
    "import pandas as pd\n",
    "import statsmodels.api as sm\n",
    "\n",
    "from sklearn.preprocessing import LabelEncoder\n",
    "from sklearn.model_selection import train_test_split\n",
    "from sklearn.tree import DecisionTreeClassifier\n",
    "\n",
    "source = 'https://raw.githubusercontent.com/MachineLearningLiuMing/scikit-learn-primer-guide/master/Data.csv'\n",
    "\n",
    "data = pd.read_csv(source)\n",
    "#data\n",
    "\n",
    "# data cleaning\n",
    "print(\"\\nbefore data cleaning:\\n\",data.isnull().sum())\n",
    "data[\"Age\"] = data[\"Age\"].fillna(data[\"Age\"].mean())\n",
    "data[\"Salary\"] = data[\"Salary\"].fillna(data[\"Salary\"].mean())\n",
    "print(\"\\nafter data cleaning:\\n\",data.isnull().sum())\n",
    "\n",
    "# data preprocess\n",
    "X = data[[\"Country\",\"Age\",\"Salary\"]]\n",
    "y = data[\"Purchased\"]\n",
    "#print(X,y)\n",
    "X = pd.get_dummies(X)\n",
    "print(\"\\nafter one hot encoding X:\\n\",X)\n",
    "\n",
    "# MaxMinScaler Age and Salary\n",
    "#print(X.Age.mean(),X.Age.std())\n",
    "X.Age = (X.Age-X.Age.min())/(X.Age.max()-X.Age.min())\n",
    "print(\"\\nX[\\\"Age\\\"] after MaxMinScaler:\\n\",X.Age)\n",
    "#print(X.Salary.mean(),X.Salary.std())\n",
    "X.Salary = (X.Salary-X.Salary.min())/(X.Salary.max()-X.Salary.min())\n",
    "print(\"\\nX[\\\"Salary\\\"] after MaxMinScaler:\\n\",X.Salary)\n",
    "\n",
    "# Label encoding y\n",
    "labelencoder = LabelEncoder()\n",
    "y = labelencoder.fit_transform(y)\n",
    "print(\"\\nafter label encoding y:\",y)\n",
    "\n",
    "\n",
    "# train test split data\n",
    "# 切分訓練集和測試集\n",
    "#X_train, X_test, y_train, y_test = train_test_split(X, y, test_size=0.3, random_state=42)\n",
    "# 此處因題目規定前7筆作train data,後3筆為test data,因此直接取row\n",
    "X_train = X.iloc[:7]\n",
    "y_train = y[:7]\n",
    "X_test = X.iloc[7:]\n",
    "y_test = y[7:]\n",
    "print(f\"\\nshape after train test split X_train:{X_train.shape},y_train:{y_train.shape},X_test:{X_test.shape},y_test:{y_test.shape})\")\n",
    "\n",
    "# create model\n",
    "model = DecisionTreeClassifier()\n",
    "model.fit(X_train, y_train)\n",
    "y_pred = model.predict(X_test)\n",
    "y_pred_inverse = labelencoder.inverse_transform(y_pred)\n",
    "print(\"\\npredict result:\",y_pred_inverse)\n",
    "print(\"original result:\",labelencoder.inverse_transform(y_test))"
   ]
  },
  {
   "cell_type": "code",
   "execution_count": null,
   "id": "020b5680",
   "metadata": {},
   "outputs": [],
   "source": [
    "# predict Salary-regression"
   ]
  },
  {
   "cell_type": "code",
   "execution_count": null,
   "id": "f0847635",
   "metadata": {},
   "outputs": [],
   "source": [
    "# use standardization"
   ]
  },
  {
   "cell_type": "code",
   "execution_count": 24,
   "id": "6d2930c1",
   "metadata": {
    "scrolled": true
   },
   "outputs": [
    {
     "name": "stdout",
     "output_type": "stream",
     "text": [
      "\n",
      "before data cleaning:\n",
      " Country      0\n",
      "Age          1\n",
      "Salary       1\n",
      "Purchased    0\n",
      "dtype: int64\n",
      "\n",
      "after data cleaning:\n",
      " Country      0\n",
      "Age          0\n",
      "Salary       0\n",
      "Purchased    0\n",
      "dtype: int64\n",
      "\n",
      "after one hot encoding X:\n",
      "          Age  Country_France  Country_Germany  Country_Spain  Purchased_No  \\\n",
      "0  44.000000               1                0              0             1   \n",
      "1  27.000000               0                0              1             0   \n",
      "2  30.000000               0                1              0             1   \n",
      "3  38.000000               0                0              1             1   \n",
      "4  40.000000               0                1              0             0   \n",
      "5  35.000000               1                0              0             0   \n",
      "6  38.777778               0                0              1             1   \n",
      "7  48.000000               1                0              0             0   \n",
      "8  50.000000               0                1              0             1   \n",
      "9  37.000000               1                0              0             0   \n",
      "\n",
      "   Purchased_Yes  \n",
      "0              0  \n",
      "1              1  \n",
      "2              0  \n",
      "3              0  \n",
      "4              1  \n",
      "5              1  \n",
      "6              0  \n",
      "7              1  \n",
      "8              0  \n",
      "9              1  \n",
      "\n",
      "X[\"Age\"] after standardization:\n",
      " 0    0.719931\n",
      "1   -1.623675\n",
      "2   -1.210098\n",
      "3   -0.107224\n",
      "4    0.168495\n",
      "5   -0.520801\n",
      "6    0.000000\n",
      "7    1.271368\n",
      "8    1.547087\n",
      "9   -0.245083\n",
      "Name: Age, dtype: float64\n",
      "\n",
      "shape after train test split X_train:(7, 6),y_train:(7,),X_test:(3, 6),y_test:(3,))\n",
      "\n",
      "predict result: [72769.62747536 73458.79315466 62312.82538377]\n",
      "original result: [79000. 83000. 67000.]\n"
     ]
    }
   ],
   "source": [
    "import pandas as pd\n",
    "import statsmodels.api as sm\n",
    "\n",
    "from sklearn.preprocessing import LabelEncoder\n",
    "from sklearn.model_selection import train_test_split\n",
    "from sklearn.tree import DecisionTreeClassifier\n",
    "from sklearn.linear_model import LinearRegression\n",
    "\n",
    "source = 'https://raw.githubusercontent.com/MachineLearningLiuMing/scikit-learn-primer-guide/master/Data.csv'\n",
    "\n",
    "data = pd.read_csv(source)\n",
    "#data\n",
    "\n",
    "# data cleaning\n",
    "print(\"\\nbefore data cleaning:\\n\",data.isnull().sum())\n",
    "data[\"Age\"] = data[\"Age\"].fillna(data[\"Age\"].mean())\n",
    "data[\"Salary\"] = data[\"Salary\"].fillna(data[\"Salary\"].mean())\n",
    "print(\"\\nafter data cleaning:\\n\",data.isnull().sum())\n",
    "\n",
    "# data preprocess\n",
    "X = data[[\"Country\",\"Age\",\"Purchased\"]]\n",
    "y = data[\"Salary\"]\n",
    "#print(X,y)\n",
    "X = pd.get_dummies(X)\n",
    "print(\"\\nafter one hot encoding X:\\n\",X)\n",
    "\n",
    "# standardization Age\n",
    "#print(X.Age.mean(),X.Age.std())\n",
    "X.Age = (X.Age-X.Age.mean())/X.Age.std()\n",
    "print(\"\\nX[\\\"Age\\\"] after standardization:\\n\",X.Age)\n",
    "\n",
    "# train test split data\n",
    "# 切分訓練集和測試集\n",
    "#X_train, X_test, y_train, y_test = train_test_split(X, y, test_size=0.3, random_state=42)\n",
    "# 此處因題目規定前7筆作train data,後3筆為test data,因此直接取row\n",
    "X_train = X.iloc[:7]\n",
    "y_train = y[:7]\n",
    "X_test = X.iloc[7:]\n",
    "y_test = y[7:]\n",
    "print(f\"\\nshape after train test split X_train:{X_train.shape},y_train:{y_train.shape},X_test:{X_test.shape},y_test:{y_test.shape})\")\n",
    "\n",
    "# create model\n",
    "model = LinearRegression()\n",
    "model.fit(X_train, y_train)\n",
    "y_pred = model.predict(X_test)\n",
    "#y_pred_inverse = labelencoder.inverse_transform(y_pred)\n",
    "print(\"\\npredict result:\",y_pred)\n",
    "print(\"original result:\",np.array(y_test))"
   ]
  },
  {
   "cell_type": "code",
   "execution_count": null,
   "id": "75538e9a",
   "metadata": {},
   "outputs": [],
   "source": [
    "# use minmaxscaler"
   ]
  },
  {
   "cell_type": "code",
   "execution_count": 25,
   "id": "24d16d18",
   "metadata": {
    "scrolled": true
   },
   "outputs": [
    {
     "name": "stdout",
     "output_type": "stream",
     "text": [
      "\n",
      "before data cleaning:\n",
      " Country      0\n",
      "Age          1\n",
      "Salary       1\n",
      "Purchased    0\n",
      "dtype: int64\n",
      "\n",
      "after data cleaning:\n",
      " Country      0\n",
      "Age          0\n",
      "Salary       0\n",
      "Purchased    0\n",
      "dtype: int64\n",
      "\n",
      "after one hot encoding X:\n",
      "          Age  Country_France  Country_Germany  Country_Spain  Purchased_No  \\\n",
      "0  44.000000               1                0              0             1   \n",
      "1  27.000000               0                0              1             0   \n",
      "2  30.000000               0                1              0             1   \n",
      "3  38.000000               0                0              1             1   \n",
      "4  40.000000               0                1              0             0   \n",
      "5  35.000000               1                0              0             0   \n",
      "6  38.777778               0                0              1             1   \n",
      "7  48.000000               1                0              0             0   \n",
      "8  50.000000               0                1              0             1   \n",
      "9  37.000000               1                0              0             0   \n",
      "\n",
      "   Purchased_Yes  \n",
      "0              0  \n",
      "1              1  \n",
      "2              0  \n",
      "3              0  \n",
      "4              1  \n",
      "5              1  \n",
      "6              0  \n",
      "7              1  \n",
      "8              0  \n",
      "9              1  \n",
      "\n",
      "X[\"Age\"] after MinMaxScalar:\n",
      " 0    0.739130\n",
      "1    0.000000\n",
      "2    0.130435\n",
      "3    0.478261\n",
      "4    0.565217\n",
      "5    0.347826\n",
      "6    0.512077\n",
      "7    0.913043\n",
      "8    1.000000\n",
      "9    0.434783\n",
      "Name: Age, dtype: float64\n",
      "\n",
      "shape after train test split X_train:(7, 6),y_train:(7,),X_test:(3, 6),y_test:(3,))\n",
      "\n",
      "predict result: [72769.62747536 73458.79315466 62312.82538377]\n",
      "original result: [79000. 83000. 67000.]\n"
     ]
    }
   ],
   "source": [
    "import pandas as pd\n",
    "import statsmodels.api as sm\n",
    "\n",
    "from sklearn.preprocessing import LabelEncoder\n",
    "from sklearn.model_selection import train_test_split\n",
    "from sklearn.tree import DecisionTreeClassifier\n",
    "from sklearn.linear_model import LinearRegression\n",
    "\n",
    "source = 'https://raw.githubusercontent.com/MachineLearningLiuMing/scikit-learn-primer-guide/master/Data.csv'\n",
    "\n",
    "data = pd.read_csv(source)\n",
    "#data\n",
    "\n",
    "# data cleaning\n",
    "print(\"\\nbefore data cleaning:\\n\",data.isnull().sum())\n",
    "data[\"Age\"] = data[\"Age\"].fillna(data[\"Age\"].mean())\n",
    "data[\"Salary\"] = data[\"Salary\"].fillna(data[\"Salary\"].mean())\n",
    "print(\"\\nafter data cleaning:\\n\",data.isnull().sum())\n",
    "\n",
    "# data preprocess\n",
    "X = data[[\"Country\",\"Age\",\"Purchased\"]]\n",
    "y = data[\"Salary\"]\n",
    "#print(X,y)\n",
    "X = pd.get_dummies(X)\n",
    "print(\"\\nafter one hot encoding X:\\n\",X)\n",
    "\n",
    "# MinMaxScalar Age\n",
    "X.Age = (X.Age-X.Age.min())/(X.Age.max()-X.Age.min())\n",
    "print(\"\\nX[\\\"Age\\\"] after MinMaxScalar:\\n\",X.Age)\n",
    "\n",
    "# train test split data\n",
    "# 切分訓練集和測試集\n",
    "#X_train, X_test, y_train, y_test = train_test_split(X, y, test_size=0.3, random_state=42)\n",
    "# 此處因題目規定前7筆作train data,後3筆為test data,因此直接取row\n",
    "X_train = X.iloc[:7]\n",
    "y_train = y[:7]\n",
    "X_test = X.iloc[7:]\n",
    "y_test = y[7:]\n",
    "print(f\"\\nshape after train test split X_train:{X_train.shape},y_train:{y_train.shape},X_test:{X_test.shape},y_test:{y_test.shape})\")\n",
    "\n",
    "# create model\n",
    "model = LinearRegression()\n",
    "model.fit(X_train, y_train)\n",
    "y_pred = model.predict(X_test)\n",
    "#y_pred_inverse = labelencoder.inverse_transform(y_pred)\n",
    "print(\"\\npredict result:\",y_pred)\n",
    "print(\"original result:\",np.array(y_test))"
   ]
  },
  {
   "cell_type": "code",
   "execution_count": null,
   "id": "cf375fbb",
   "metadata": {},
   "outputs": [],
   "source": []
  }
 ],
 "metadata": {
  "kernelspec": {
   "display_name": "Python 3 (ipykernel)",
   "language": "python",
   "name": "python3"
  },
  "language_info": {
   "codemirror_mode": {
    "name": "ipython",
    "version": 3
   },
   "file_extension": ".py",
   "mimetype": "text/x-python",
   "name": "python",
   "nbconvert_exporter": "python",
   "pygments_lexer": "ipython3",
   "version": "3.9.16"
  }
 },
 "nbformat": 4,
 "nbformat_minor": 5
}
