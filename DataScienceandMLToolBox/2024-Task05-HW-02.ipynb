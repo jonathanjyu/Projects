{
 "cells": [
  {
   "cell_type": "markdown",
   "id": "d2bbfd38",
   "metadata": {},
   "source": [
    "# Task #05 作業 02【實作題】特徵工程的裝箱處理\n",
    "請根據提供的資料，將原始欄位的資料切分成由 n 個類別所組成欄位。\n",
    "\n",
    "Sample Code:\n",
    "\n",
    "import numpy as np\n",
    "import pandas as pd\n",
    "\n",
    "df = pd.DataFrame(np.random.random(100)*100)\n",
    "n = input()\n",
    "\n",
    "'''\n",
    "Your Code\n",
    "'''"
   ]
  },
  {
   "cell_type": "code",
   "execution_count": 8,
   "id": "97c286f5",
   "metadata": {},
   "outputs": [
    {
     "name": "stdout",
     "output_type": "stream",
     "text": [
      "10\n"
     ]
    }
   ],
   "source": [
    "import numpy as np\n",
    "import pandas as pd\n",
    "\n",
    "df = pd.DataFrame(np.random.random(100)*100)\n",
    "n = int(input())"
   ]
  },
  {
   "cell_type": "code",
   "execution_count": 29,
   "id": "e12354a9",
   "metadata": {},
   "outputs": [
    {
     "name": "stdout",
     "output_type": "stream",
     "text": [
      "            0  binned\n",
      "0   11.547383       1\n",
      "1   36.892047       3\n",
      "2   30.837164       2\n",
      "3   85.582779       8\n",
      "4   90.362251       9\n",
      "..        ...     ...\n",
      "95  26.569783       2\n",
      "96   3.161576       0\n",
      "97  19.327445       1\n",
      "98  88.848250       8\n",
      "99  29.453484       2\n",
      "\n",
      "[100 rows x 2 columns]\n"
     ]
    }
   ],
   "source": [
    "df['binned'] = pd.cut(df[0],bins = n,labels = False)\n",
    "print(df)"
   ]
  },
  {
   "cell_type": "code",
   "execution_count": null,
   "id": "c884011e",
   "metadata": {},
   "outputs": [],
   "source": []
  }
 ],
 "metadata": {
  "kernelspec": {
   "display_name": "Python 3 (ipykernel)",
   "language": "python",
   "name": "python3"
  },
  "language_info": {
   "codemirror_mode": {
    "name": "ipython",
    "version": 3
   },
   "file_extension": ".py",
   "mimetype": "text/x-python",
   "name": "python",
   "nbconvert_exporter": "python",
   "pygments_lexer": "ipython3",
   "version": "3.9.16"
  }
 },
 "nbformat": 4,
 "nbformat_minor": 5
}
