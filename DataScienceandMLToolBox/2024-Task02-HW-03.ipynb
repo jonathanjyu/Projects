{
 "cells": [
  {
   "cell_type": "markdown",
   "id": "62256847",
   "metadata": {},
   "source": [
    "# Task #02 作業 03【實作題】檔案串接與資料存取\n",
    "#練習：我們使用來自於社群整理的醫事機構整理的公開資料，該資料包含醫事機構代碼、醫事機構名稱以及地址等資訊。請嘗試用 Pandas 存取來自於檔案來源的資料，並且計算每個縣市的醫事機構數量並且排序前五高縣市為何。\n",
    "\n",
    "Sample Input: https://raw.githubusercontent.com/kiang/pharmacies/master/data.csv\n",
    "\n",
    "❏ Sample Output: 醫事機構數量前五高的縣市\n",
    "\n",
    "❏ Sample Code：\n",
    "\n",
    "'''\n",
    "Your Code\n",
    "'''\n",
    "# 地址\n",
    "# 新北市    1264\n",
    "# 臺中市     878\n",
    "# 臺北市     772\n",
    "# 高雄市     723\n",
    "# 桃園市     679\n",
    "# Name: count, dtype: int64"
   ]
  },
  {
   "cell_type": "code",
   "execution_count": 4,
   "id": "69dc866e",
   "metadata": {},
   "outputs": [],
   "source": [
    "import pandas as pd\n",
    "df = pd.read_csv('https://raw.githubusercontent.com/kiang/pharmacies/master/data.csv')\n",
    "print(df.groupby('縣市')['醫事機構代碼'].count().sort_values(ascending = False).head(5))"
   ]
  },
  {
   "cell_type": "code",
   "execution_count": 21,
   "id": "faa02480",
   "metadata": {},
   "outputs": [
    {
     "name": "stdout",
     "output_type": "stream",
     "text": [
      "縣市\n",
      "新北市    1256\n",
      "臺中市     855\n",
      "臺北市     780\n",
      "高雄市     718\n",
      "桃園市     670\n",
      "Name: 醫事機構代碼, dtype: int64\n"
     ]
    }
   ],
   "source": []
  },
  {
   "cell_type": "code",
   "execution_count": null,
   "id": "e9900f36",
   "metadata": {},
   "outputs": [],
   "source": []
  }
 ],
 "metadata": {
  "kernelspec": {
   "display_name": "Python 3 (ipykernel)",
   "language": "python",
   "name": "python3"
  },
  "language_info": {
   "codemirror_mode": {
    "name": "ipython",
    "version": 3
   },
   "file_extension": ".py",
   "mimetype": "text/x-python",
   "name": "python",
   "nbconvert_exporter": "python",
   "pygments_lexer": "ipython3",
   "version": "3.9.16"
  }
 },
 "nbformat": 4,
 "nbformat_minor": 5
}
