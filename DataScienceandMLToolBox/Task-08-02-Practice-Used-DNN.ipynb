{
 "cells": [
  {
   "cell_type": "markdown",
   "id": "cd66275a",
   "metadata": {},
   "source": [
    "# Task #08 指定教材 02：在 Python 中實現機器學習\n",
    "Practice"
   ]
  },
  {
   "cell_type": "code",
   "execution_count": 5,
   "id": "01230852-3c31-4ab1-ae64-2b0690a739b0",
   "metadata": {},
   "outputs": [],
   "source": [
    "import pandas as pd\n",
    "import numpy as np\n",
    "\n",
    "# 載入波士頓房價資料集\n",
    "data_url = \"http://lib.stat.cmu.edu/datasets/boston\"\n",
    "raw_df = pd.read_csv(data_url, sep=\"\\s+\", skiprows=22, header=None)\n",
    "features = np.hstack([raw_df.values[::2, :], raw_df.values[1::2, :2]])\n",
    "target = raw_df.values[1::2, 2]\n",
    "\n",
    "from sklearn.model_selection import train_test_split\n",
    "\n",
    "# 切割資料集為訓練集和測試集\n",
    "train_features, test_features, train_target, test_target = train_test_split(features, target, test_size=0.2)"
   ]
  },
  {
   "cell_type": "code",
   "execution_count": 7,
   "id": "d5ee0d82-1c07-453e-ba38-a45d9bd1e403",
   "metadata": {},
   "outputs": [],
   "source": [
    "import torch\n",
    "import torch.nn as nn\n",
    "\n",
    "# 定義自定義模型\n",
    "class HousePricePredictor(nn.Module):\n",
    "    def __init__(self, input_size):\n",
    "        super(HousePricePredictor, self).__init__()\n",
    "        self.fc1 = nn.Linear(input_size, 64)\n",
    "        self.relu = nn.ReLU()\n",
    "        self.fc2 = nn.Linear(64, 32)\n",
    "        self.fc3 = nn.Linear(32, 1)\n",
    "    \n",
    "    def forward(self, x):\n",
    "        x = self.fc1(x)\n",
    "        x = self.relu(x)\n",
    "        x = self.fc2(x)\n",
    "        x = self.relu(x)\n",
    "        x = self.fc3(x)\n",
    "        return x"
   ]
  },
  {
   "cell_type": "code",
   "execution_count": 8,
   "id": "d569fe9d-ee4d-494e-9185-2b2f3da541c3",
   "metadata": {},
   "outputs": [
    {
     "data": {
      "text/plain": [
       "True"
      ]
     },
     "execution_count": 8,
     "metadata": {},
     "output_type": "execute_result"
    }
   ],
   "source": [
    "torch.backends.mps.is_available()"
   ]
  },
  {
   "cell_type": "code",
   "execution_count": 13,
   "id": "ea742550-86eb-4e22-beea-3b8c35da21c0",
   "metadata": {},
   "outputs": [
    {
     "name": "stdout",
     "output_type": "stream",
     "text": [
      "mps\n",
      "Epoch 10/100, Loss: 68.0462\n",
      "Epoch 20/100, Loss: 59.3656\n",
      "Epoch 30/100, Loss: 56.7858\n",
      "Epoch 40/100, Loss: 55.1153\n",
      "Epoch 50/100, Loss: 53.4753\n",
      "Epoch 60/100, Loss: 51.8556\n",
      "Epoch 70/100, Loss: 49.9649\n",
      "Epoch 80/100, Loss: 47.3220\n",
      "Epoch 90/100, Loss: 44.9823\n",
      "Epoch 100/100, Loss: 42.6398\n"
     ]
    }
   ],
   "source": [
    "import torch.optim as optim\n",
    "\n",
    "# 定義設備\n",
    "#device = torch.device(\"cuda\" if torch.cuda.is_available() else \"cpu\")\n",
    "device = torch.device(\"mps\" if torch.backends.mps.is_available() else \"cpu\")\n",
    "print(device)\n",
    "\n",
    "# 創建模型實例\n",
    "model = HousePricePredictor(input_size=13).to(device)\n",
    "\n",
    "# 定義損失函數和優化器\n",
    "criterion = nn.MSELoss()\n",
    "optimizer = optim.Adam(model.parameters(), lr=0.001)\n",
    "\n",
    "# 設定訓練迴圈\n",
    "num_epochs = 100\n",
    "for epoch in range(num_epochs):\n",
    "    # 將特徵和目標轉換為 Tensor\n",
    "    features_tensor = torch.Tensor(features).to(device)\n",
    "    target_tensor = torch.Tensor(target).unsqueeze(1).to(device)\n",
    "    \n",
    "    # 正向傳播\n",
    "    outputs = model(features_tensor)\n",
    "    loss = criterion(outputs, target_tensor)\n",
    "    \n",
    "    # 反向傳播和參數更新\n",
    "    optimizer.zero_grad()\n",
    "    loss.backward()\n",
    "    optimizer.step()\n",
    "    \n",
    "    # 每隔 10 個迭代顯示一次損失\n",
    "    if (epoch + 1) % 10 == 0:\n",
    "        print(f\"Epoch {epoch+1}/{num_epochs}, Loss: {loss.item():.4f}\")"
   ]
  },
  {
   "cell_type": "code",
   "execution_count": 14,
   "id": "565e68df-48c5-4361-8125-4400e3564b87",
   "metadata": {},
   "outputs": [
    {
     "name": "stdout",
     "output_type": "stream",
     "text": [
      "Root Mean Squared Error: 5.7730\n"
     ]
    }
   ],
   "source": [
    "# 將特徵轉換為 Tensor\n",
    "test_features_tensor = torch.Tensor(test_features).to(device)\n",
    "\n",
    "# 預測房價\n",
    "with torch.no_grad():\n",
    "    model.eval()\n",
    "    predictions = model(test_features_tensor)\n",
    "\n",
    "# 轉換為 NumPy 陣列\n",
    "predictions = predictions.cpu().numpy()\n",
    "\n",
    "# 計算評估指標（例如均方根誤差）\n",
    "from sklearn.metrics import mean_squared_error\n",
    "\n",
    "mse = mean_squared_error(test_target, predictions)\n",
    "rmse = np.sqrt(mse)\n",
    "print(f\"Root Mean Squared Error: {rmse:.4f}\")"
   ]
  },
  {
   "cell_type": "code",
   "execution_count": null,
   "id": "858fa5cb-ee19-494e-8102-11d20c5e7f90",
   "metadata": {},
   "outputs": [],
   "source": []
  }
 ],
 "metadata": {
  "kernelspec": {
   "display_name": "Python 3 (ipykernel)",
   "language": "python",
   "name": "python3"
  },
  "language_info": {
   "codemirror_mode": {
    "name": "ipython",
    "version": 3
   },
   "file_extension": ".py",
   "mimetype": "text/x-python",
   "name": "python",
   "nbconvert_exporter": "python",
   "pygments_lexer": "ipython3",
   "version": "3.9.16"
  }
 },
 "nbformat": 4,
 "nbformat_minor": 5
}
