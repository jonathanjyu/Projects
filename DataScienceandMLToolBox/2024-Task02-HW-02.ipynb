{
 "cells": [
  {
   "cell_type": "markdown",
   "id": "2e337132",
   "metadata": {},
   "source": [
    "# Task #02 作業 02【實作題】資料匯總\n",
    "#練習：請利用 Pandas 計算給定的資料中不同 weekday 的 visitor 總和為何？\n",
    "\n",
    "Sample Code：\n",
    "\n",
    "import pandas as pd\n",
    "import numpy as np\n",
    "\n",
    "d = [\n",
    "    {'city': 'Austin', 'visitor': 139, 'weekday': 'Sun'},\n",
    "    {'city': 'Dallas', 'visitor': 237, 'weekday': 'Sun'},\n",
    "    {'city': 'Austin', 'visitor': 326, 'weekday': 'Mon'},\n",
    "    {'city': 'Dallas', 'visitor': 456, 'weekday': 'Mon'}\n",
    "]\n",
    "\n",
    "'''\n",
    "Your Code\n",
    "'''"
   ]
  },
  {
   "cell_type": "code",
   "execution_count": 27,
   "id": "506485cc",
   "metadata": {},
   "outputs": [
    {
     "name": "stdout",
     "output_type": "stream",
     "text": [
      "weekday\n",
      "Mon    782\n",
      "Sun    376\n",
      "Name: visitor, dtype: int64\n"
     ]
    }
   ],
   "source": [
    "import pandas as pd\n",
    "import numpy as np\n",
    "\n",
    "d = [\n",
    "    {'city': 'Austin', 'visitor': 139, 'weekday': 'Sun'},\n",
    "    {'city': 'Dallas', 'visitor': 237, 'weekday': 'Sun'},\n",
    "    {'city': 'Austin', 'visitor': 326, 'weekday': 'Mon'},\n",
    "    {'city': 'Dallas', 'visitor': 456, 'weekday': 'Mon'}\n",
    "]\n",
    "d = pd.DataFrame(d)\n",
    "print(d.groupby('weekday')['visitor'].sum())"
   ]
  },
  {
   "cell_type": "code",
   "execution_count": null,
   "id": "491fe289",
   "metadata": {},
   "outputs": [],
   "source": []
  }
 ],
 "metadata": {
  "kernelspec": {
   "display_name": "Python 3 (ipykernel)",
   "language": "python",
   "name": "python3"
  },
  "language_info": {
   "codemirror_mode": {
    "name": "ipython",
    "version": 3
   },
   "file_extension": ".py",
   "mimetype": "text/x-python",
   "name": "python",
   "nbconvert_exporter": "python",
   "pygments_lexer": "ipython3",
   "version": "3.9.16"
  }
 },
 "nbformat": 4,
 "nbformat_minor": 5
}
